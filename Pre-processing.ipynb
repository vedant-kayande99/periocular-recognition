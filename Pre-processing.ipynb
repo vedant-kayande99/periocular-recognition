{
 "cells": [
  {
   "cell_type": "code",
   "execution_count": 10,
   "metadata": {},
   "outputs": [],
   "source": [
    "import os\n",
    "from collections import defaultdict"
   ]
  },
  {
   "cell_type": "code",
   "execution_count": 37,
   "metadata": {},
   "outputs": [],
   "source": [
    "parent_dir = 'ubipr/UBIPeriocular/'\n",
    "dirs = os.listdir(parent_dir)\n",
    "img_files = defaultdict(lambda: defaultdict(list))\n",
    "for file in dirs:\n",
    "    if file.endswith(\".jpg\"):\n",
    "        ID = file.split(\"_\")[0]\n",
    "        if int(ID[1:])%2:\n",
    "            WHICH_EYE = 'R'\n",
    "            img_files[int(ID[1:])][WHICH_EYE].append(parent_dir + file)\n",
    "        else:\n",
    "            WHICH_EYE = 'L'\n",
    "            img_files[int(ID[1:])-1][WHICH_EYE].append(parent_dir + file)"
   ]
  },
  {
   "cell_type": "code",
   "execution_count": 46,
   "metadata": {},
   "outputs": [
    {
     "name": "stdout",
     "output_type": "stream",
     "text": [
      "1 3 5 7 9 11 13 15 17 19 21 23 25 27 29 31 33 35 37 39 41 43 45 47 49 51 57 59 61 63 65 67 69 71 73 75 77 79 81 83 85 87 89 91 93 95 97 99 101 103 105 107 109 111 113 115 117 119 121 123 125 127 129 131 133 135 137 139 141 143 145 147 149 151 153 155 157 159 161 163 165 167 169 171 173 175 177 179 181 183 185 187 189 191 193 195 197 199 201 203 205 207 209 211 213 215 217 219 221 223 225 227 229 231 233 235 237 239 241 243 245 247 249 251 253 255 257 259 261 263 265 267 269 271 273 275 277 279 281 283 285 287 289 291 293 295 297 299 301 303 305 307 309 311 313 315 317 319 321 323 325 327 329 331 333 335 337 339 341 343 345 347 349 351 353 355 357 359 361 363 365 367 369 371 373 375 377 379 381 383 385 387 389 391 393 395 397 399 401 403 405 411 413 415 417 419 421 423 425 429 431 433 435 437 439 441 443 445 447 449 451 453 455 457 459 461 463 465 467 469 471 473 475 477 479 481 483 485 487 489 491 493 495 497 499 501 503 505 507 509 511 513 515 521 "
     ]
    }
   ],
   "source": [
    "path = 'preprocessed_ubipr/'\n",
    "os.mkdir(path)\n",
    "from shutil import copy2\n",
    "for ID in sorted(img_files.keys()):\n",
    "    print(ID, end = ' ')\n",
    "    os.mkdir(path+str(ID))\n",
    "    os.mkdir(path+str(ID)+\"/\"+'R')\n",
    "    os.mkdir(path+str(ID)+\"/\"+'L')\n",
    "    for f in img_files[ID]['L']:\n",
    "        copy2(f, path+str(ID)+\"/\"+'L')\n",
    "    for f in img_files[ID]['R']:\n",
    "        copy2(f, path+str(ID)+\"/\"+'R')"
   ]
  },
  {
   "cell_type": "code",
   "execution_count": null,
   "metadata": {},
   "outputs": [],
   "source": []
  }
 ],
 "metadata": {
  "kernelspec": {
   "display_name": "Python 3",
   "language": "python",
   "name": "python3"
  },
  "language_info": {
   "codemirror_mode": {
    "name": "ipython",
    "version": 3
   },
   "file_extension": ".py",
   "mimetype": "text/x-python",
   "name": "python",
   "nbconvert_exporter": "python",
   "pygments_lexer": "ipython3",
   "version": "3.6.10"
  }
 },
 "nbformat": 4,
 "nbformat_minor": 4
}
